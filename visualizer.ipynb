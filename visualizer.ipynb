{
 "cells": [
  {
   "cell_type": "code",
   "execution_count": 3,
   "metadata": {},
   "outputs": [
    {
     "name": "stdout",
     "output_type": "stream",
     "text": [
      "array([3, 5, 3, 4, 0, 5, 2, 4, 2, 5, 5, 4, 0, 1, 0, 5, 4, 4, 0, 4, 4, 3,\n",
      "       2, 1, 0, 1, 5, 0, 5, 5, 2, 3, 1, 0, 1, 4, 3, 3, 1, 2, 4, 2, 2, 0,\n",
      "       1, 2, 2, 1, 3, 5, 3, 3, 0, 1], dtype=int32)\n"
     ]
    },
    {
     "data": {
      "image/png": "[encoded data removed]",
      "text/plain": [
       "<Figure size 640x480 with 1 Axes>"
      ]
     },
     "metadata": {},
     "output_type": "display_data"
    }
   ],
   "source": [
    "import matplotlib.pyplot as plt\n",
    "import matplotlib.patches as patches\n",
    "import numpy as np\n",
    "from cube import VecCube\n",
    "\n",
    "\n",
    "state = VecCube()\n",
    "state.apply(\"L R U D F B D' F' B' L' R' U' L2 R2 U2 D2 F2 B2\")\n",
    "state = state.get_state()\n",
    "print(repr(state))\n",
    "\n",
    "grid = [[-1, -1, -1,  2, 5, 8,  -1, -1, -1,  -1, -1, -1],\n",
    "        [-1, -1, -1,  1, 4, 7,  -1, -1, -1,  -1, -1, -1],\n",
    "        [-1, -1, -1,  0, 3, 6,  -1, -1, -1,  -1, -1, -1],\n",
    "        [20, 23, 26,  47, 50, 53,  29, 32, 35,  38, 41, 44],\n",
    "        [19, 22, 25,  46, 49, 52,  28, 31, 34,  37, 40, 43],\n",
    "        [18, 21, 24,  45, 48, 51,  27, 30, 33,  36, 39, 42],\n",
    "        [-1, -1, -1,  11, 14, 17,  -1, -1, -1,  -1, -1, -1],\n",
    "        [-1, -1, -1,  10, 13, 16,  -1, -1, -1,  -1, -1, -1],\n",
    "        [-1, -1, -1,  9, 12, 15,  -1, -1, -1,  -1, -1, -1]]\n",
    "fig, ax = plt.subplots()\n",
    "ax.set_aspect('equal')\n",
    "ax.set_xlim(0, 12)\n",
    "ax.set_ylim(-8, 1)\n",
    "plt.axis('off')\n",
    "for i in range(9):\n",
    "    for j in range(12):\n",
    "        if grid[i][j] == -1:\n",
    "            continue\n",
    "        color = {0: 'yellow', 1: 'white', 2: 'blue',\n",
    "                 3: 'green', 4: 'orange', 5: 'red'}[state[grid[i][j]]]\n",
    "        square = patches.Rectangle(\n",
    "            (j, -i), 1, 1, edgecolor='black', facecolor=color)\n",
    "        ax.add_patch(square)\n",
    "plt.show()"
   ]
  },
  {
   "cell_type": "code",
   "execution_count": null,
   "metadata": {},
   "outputs": [],
   "source": []
  }
 ],
 "metadata": {
  "kernelspec": {
   "display_name": "Python 3",
   "language": "python",
   "name": "python3"
  },
  "language_info": {
   "codemirror_mode": {
    "name": "ipython",
    "version": 3
   },
   "file_extension": ".py",
   "mimetype": "text/x-python",
   "name": "python",
   "nbconvert_exporter": "python",
   "pygments_lexer": "ipython3",
   "version": "3.11.9"
  }
 },
 "nbformat": 4,
 "nbformat_minor": 2
}
