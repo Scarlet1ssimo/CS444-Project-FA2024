{
 "cells": [
  {
   "cell_type": "code",
   "execution_count": 2,
   "metadata": {},
   "outputs": [
    {
     "name": "stdout",
     "output_type": "stream",
     "text": [
      "device: cuda\n",
      "os.cpu_count(): 20\n",
      "GPU 0: NVIDIA GeForce RTX 4070 SUPER (UUID: GPU-b10c6cac-b9b4-49fa-2e4d-8ba5c4c711ba)\n"
     ]
    }
   ],
   "source": [
    "import os\n",
    "import time\n",
    "import random\n",
    "import pickle\n",
    "import numpy as np\n",
    "from copy import deepcopy\n",
    "from contextlib import nullcontext\n",
    "from tqdm import tqdm, trange\n",
    "\n",
    "import matplotlib.pyplot as plt\n",
    "from cycler import cycler; plt.rcParams[\"axes.prop_cycle\"] = cycler(color=[\"#000000\", \"#2180FE\", \"#EB4275\"])\n",
    "from IPython.display import clear_output\n",
    "\n",
    "import torch\n",
    "from torch import nn\n",
    "device = torch.device('cuda' if torch.cuda.is_available() else 'cpu')\n",
    "\n",
    "print(f'device: {device}')\n",
    "print(f'os.cpu_count(): {os.cpu_count()}')\n",
    "!nvidia-smi -L"
   ]
  },
  {
   "cell_type": "code",
   "execution_count": 3,
   "metadata": {},
   "outputs": [],
   "source": [
    "from cube import Cube\n",
    "env = Cube()"
   ]
  },
  {
   "cell_type": "code",
   "execution_count": 10,
   "metadata": {},
   "outputs": [
    {
     "data": {
      "text/plain": [
       "Model(\n",
       "  (embedding): LinearBlock(\n",
       "    (fc): Linear(in_features=324, out_features=5000, bias=True)\n",
       "    (relu): ReLU()\n",
       "    (bn): BatchNorm1d(5000, eps=1e-05, momentum=0.1, affine=True, track_running_stats=True)\n",
       "  )\n",
       "  (linear_layers): ModuleList(\n",
       "    (0): LinearBlock(\n",
       "      (fc): Linear(in_features=5000, out_features=1000, bias=True)\n",
       "      (relu): ReLU()\n",
       "      (bn): BatchNorm1d(1000, eps=1e-05, momentum=0.1, affine=True, track_running_stats=True)\n",
       "    )\n",
       "  )\n",
       "  (residual_blocks): ModuleList(\n",
       "    (0-3): 4 x ResidualBlock(\n",
       "      (layers): ModuleList(\n",
       "        (0-1): 2 x LinearBlock(\n",
       "          (fc): Linear(in_features=1000, out_features=1000, bias=True)\n",
       "          (relu): ReLU()\n",
       "          (bn): BatchNorm1d(1000, eps=1e-05, momentum=0.1, affine=True, track_running_stats=True)\n",
       "        )\n",
       "      )\n",
       "    )\n",
       "  )\n",
       "  (output): Linear(in_features=1000, out_features=12, bias=True)\n",
       ")"
      ]
     },
     "execution_count": 10,
     "metadata": {},
     "output_type": "execute_result"
    }
   ],
   "source": [
    "from model import Model\n",
    "model = Model()\n",
    "model.to(device)"
   ]
  },
  {
   "cell_type": "code",
   "execution_count": 11,
   "metadata": {},
   "outputs": [
    {
     "name": "stdout",
     "output_type": "stream",
     "text": [
      "X shape: torch.Size([1000, 26, 54])\n",
      "y shape: torch.Size([1000, 26])\n",
      "X dtype: torch.int64\n",
      "y dtype: torch.int64\n",
      "Sample X: tensor([[0, 0, 0,  ..., 1, 5, 5],\n",
      "        [2, 2, 5,  ..., 1, 5, 0],\n",
      "        [1, 2, 5,  ..., 2, 2, 2],\n",
      "        ...,\n",
      "        [0, 4, 5,  ..., 5, 4, 5],\n",
      "        [0, 4, 5,  ..., 5, 4, 0],\n",
      "        [0, 4, 5,  ..., 5, 4, 0]])\n",
      "Sample y: tensor([ 7,  6, 10,  1,  3, 10,  0,  7, 10,  3,  7, 10,  2, 11,  2,  9, 11,  7,\n",
      "         3,  5,  4,  0,  5,  6,  6,  5])\n"
     ]
    }
   ],
   "source": [
    "from config import TrainConfig\n",
    "\n",
    "\n",
    "class ScrambleGenerator(torch.utils.data.Dataset):\n",
    "    def __init__(\n",
    "        self,\n",
    "        num_workers=os.cpu_count(),\n",
    "        max_depth=TrainConfig.max_depth,\n",
    "        total_samples=TrainConfig.num_steps*TrainConfig.batch_size_per_depth\n",
    "    ):\n",
    "        self.num_workers = num_workers\n",
    "        self.max_depth = max_depth\n",
    "        # self.envs = [Cube() for _ in range(num_workers)]\n",
    "        # self.generators = [env.scrambler(self.max_depth) for env in self.envs]\n",
    "\n",
    "        self.total_samples = total_samples\n",
    "\n",
    "    def __len__(self):\n",
    "        return self.total_samples\n",
    "\n",
    "    def __getitem__(self, i):\n",
    "        ''' generate one scramble, consisting of `self.max_depth` data points '''\n",
    "        # worker_idx = i % self.num_workers\n",
    "        try:\n",
    "            X = np.zeros((self.max_depth, 54), dtype=np.int64)\n",
    "            y = np.zeros((self.max_depth,), dtype=np.int64)\n",
    "            generator = Cube().scrambler(self.max_depth)\n",
    "            for j in range(self.max_depth):\n",
    "                state, last_move = next(generator)\n",
    "                X[j, :] = state\n",
    "                y[j] = last_move\n",
    "            return X, y\n",
    "        except Exception as e:\n",
    "            print(f'error: {e}')\n",
    "            return self.__getitem__(i)\n",
    "\n",
    "\n",
    "dataloader = torch.utils.data.DataLoader(\n",
    "    ScrambleGenerator(),\n",
    "    num_workers=0,\n",
    "    batch_size=TrainConfig.batch_size_per_depth\n",
    ")\n",
    "\n",
    "# Get one batch from the dataloader\n",
    "sample_batch = next(iter(dataloader))\n",
    "\n",
    "# Unpack X and y from the batch\n",
    "X, y = sample_batch\n",
    "\n",
    "# Check shapes and data types\n",
    "print(\"X shape:\", X.shape)  # Expected: (batch_size, max_depth, 54)\n",
    "print(\"y shape:\", y.shape)  # Expected: (batch_size, max_depth)\n",
    "print(\"X dtype:\", X.dtype)\n",
    "print(\"y dtype:\", y.dtype)\n",
    "\n",
    "# Optional: Print the first few entries to inspect contents\n",
    "print(\"Sample X:\", X[0])  # Print the first sample in X\n",
    "print(\"Sample y:\", y[0])  # Print the first sample in y\n"
   ]
  },
  {
   "cell_type": "code",
   "execution_count": null,
   "metadata": {},
   "outputs": [],
   "source": [
    "def plot_loss_curve(h):\n",
    "    fig, ax = plt.subplots(1, 1)\n",
    "    ax.plot(h)\n",
    "    ax.set_xlabel(\"Steps\")\n",
    "    ax.set_ylabel(\"Cross-entropy loss\")\n",
    "    ax.set_xscale(\"log\")\n",
    "    plt.show()\n",
    "\n",
    "def train(model, dataloader):\n",
    "    model.train()\n",
    "    loss_fn = nn.CrossEntropyLoss()\n",
    "    optimizer = torch.optim.Adam(model.parameters(), lr=TrainConfig.learning_rate)\n",
    "    g = iter(dataloader)\n",
    "    h = []\n",
    "    ctx = torch.cuda.amp.autocast(dtype=torch.float16) if TrainConfig.ENABLE_FP16 else nullcontext()\n",
    "\n",
    "    for i in trange(1, TrainConfig.num_steps + 1):\n",
    "        batch_x, batch_y = next(g)\n",
    "        batch_x, batch_y = batch_x.reshape(-1, 54).to(device), batch_y.reshape(-1).to(device)\n",
    "\n",
    "        with ctx:\n",
    "            pred_y = model(batch_x)\n",
    "            loss = loss_fn(pred_y, batch_y)\n",
    "        optimizer.zero_grad()\n",
    "        loss.backward()\n",
    "        optimizer.step()\n",
    "\n",
    "        h.append(loss.item())\n",
    "        if TrainConfig.INTERVAL_PLOT and i % TrainConfig.INTERVAL_PLOT == 0:\n",
    "            clear_output()\n",
    "            plot_loss_curve(h)\n",
    "        if TrainConfig.INTERVAL_SAVE and i % TrainConfig.INTERVAL_SAVE == 0:\n",
    "            torch.save(model.state_dict(), f\"{i}steps.pth\")\n",
    "            print(\"Model saved.\")\n",
    "    print(f\"Trained on data equivalent to {TrainConfig.batch_size_per_depth * TrainConfig.num_steps} solves.\")\n",
    "    return model\n",
    "\n",
    "model = train(model, dataloader)"
   ]
  },
  {
   "cell_type": "code",
   "execution_count": null,
   "metadata": {},
   "outputs": [],
   "source": []
  }
 ],
 "metadata": {
  "kernelspec": {
   "display_name": "Python 3",
   "language": "python",
   "name": "python3"
  },
  "language_info": {
   "codemirror_mode": {
    "name": "ipython",
    "version": 3
   },
   "file_extension": ".py",
   "mimetype": "text/x-python",
   "name": "python",
   "nbconvert_exporter": "python",
   "pygments_lexer": "ipython3",
   "version": "3.11.9"
  }
 },
 "nbformat": 4,
 "nbformat_minor": 2
}
